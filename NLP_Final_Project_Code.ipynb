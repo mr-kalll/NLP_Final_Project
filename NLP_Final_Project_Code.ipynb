{
 "cells": [
  {
   "cell_type": "markdown",
   "id": "ded167aa",
   "metadata": {},
   "source": [
    "# Automated Detection of Food Hazards in Incident Reports\n",
    "# Project Overview\n",
    "### This Jupyter notebook implements the full code for the CST8507 - Natural Language Processing final project based on SemEval-2025 Task 9: Food Hazard Detection Challenge.\n",
    "\n",
    "# Team Members:\n",
    "\n",
    "### Khaled Saleh\n",
    "### Yazid Rahmouni"
   ]
  },
  {
   "cell_type": "markdown",
   "id": "e5b0be6a",
   "metadata": {},
   "source": [
    "# 1. Imports and Setup"
   ]
  },
  {
   "cell_type": "code",
   "execution_count": 4,
   "id": "0c6aca3a",
   "metadata": {},
   "outputs": [
    {
     "data": {
      "text/plain": [
       "<torch._C.Generator at 0x1501302a510>"
      ]
     },
     "execution_count": 4,
     "metadata": {},
     "output_type": "execute_result"
    }
   ],
   "source": [
    "# Import necessary libraries for data handling, machine learning, and visualization\n",
    "import pandas as pd\n",
    "import numpy as np\n",
    "from sklearn.feature_extraction.text import TfidfVectorizer\n",
    "from sklearn.linear_model import LogisticRegression\n",
    "from sklearn.ensemble import RandomForestClassifier\n",
    "from sklearn.preprocessing import LabelEncoder\n",
    "from sklearn.metrics import f1_score, confusion_matrix, classification_report\n",
    "from sklearn.model_selection import train_test_split\n",
    "import matplotlib.pyplot as plt\n",
    "import seaborn as sns\n",
    "from transformers import BertTokenizer, BertForSequenceClassification\n",
    "from torch.optim import AdamW\n",
    "import torch\n",
    "from torch.utils.data import Dataset, DataLoader\n",
    "from tqdm import tqdm\n",
    "import shap\n",
    "from lime.lime_text import LimeTextExplainer\n",
    "import re\n",
    "import warnings\n",
    "warnings.filterwarnings('ignore')  # Suppress warnings for cleaner output\n",
    "\n",
    "# Set random seed for reproducibility across numpy and torch\n",
    "np.random.seed(42)\n",
    "torch.manual_seed(42)\n"
   ]
  },
  {
   "cell_type": "markdown",
   "id": "cc880b21",
   "metadata": {},
   "source": [
    "# 2. Data Loading and Preprocessing"
   ]
  },
  {
   "cell_type": "markdown",
   "id": "6e55748c",
   "metadata": {},
   "source": [
    "Load and Explore Data"
   ]
  },
  {
   "cell_type": "code",
   "execution_count": 5,
   "id": "094954be",
   "metadata": {},
   "outputs": [
    {
     "name": "stdout",
     "output_type": "stream",
     "text": [
      "Train Dataset Shape: (5082, 11)\n",
      "Validation Dataset Shape: (565, 11)\n",
      "Test Dataset Shape: (997, 11)\n",
      "Columns: ['Unnamed: 0', 'year', 'month', 'day', 'country', 'title', 'text', 'hazard-category', 'product-category', 'hazard', 'product']\n",
      "\n",
      "Sample Train Data:\n"
     ]
    },
    {
     "data": {
      "text/html": [
       "<div>\n",
       "<style scoped>\n",
       "    .dataframe tbody tr th:only-of-type {\n",
       "        vertical-align: middle;\n",
       "    }\n",
       "\n",
       "    .dataframe tbody tr th {\n",
       "        vertical-align: top;\n",
       "    }\n",
       "\n",
       "    .dataframe thead th {\n",
       "        text-align: right;\n",
       "    }\n",
       "</style>\n",
       "<table border=\"1\" class=\"dataframe\">\n",
       "  <thead>\n",
       "    <tr style=\"text-align: right;\">\n",
       "      <th></th>\n",
       "      <th>Unnamed: 0</th>\n",
       "      <th>year</th>\n",
       "      <th>month</th>\n",
       "      <th>day</th>\n",
       "      <th>country</th>\n",
       "      <th>title</th>\n",
       "      <th>text</th>\n",
       "      <th>hazard-category</th>\n",
       "      <th>product-category</th>\n",
       "      <th>hazard</th>\n",
       "      <th>product</th>\n",
       "    </tr>\n",
       "  </thead>\n",
       "  <tbody>\n",
       "    <tr>\n",
       "      <th>0</th>\n",
       "      <td>0</td>\n",
       "      <td>1994</td>\n",
       "      <td>1</td>\n",
       "      <td>7</td>\n",
       "      <td>us</td>\n",
       "      <td>Recall Notification: FSIS-024-94</td>\n",
       "      <td>Case Number: 024-94   \\n            Date Opene...</td>\n",
       "      <td>biological</td>\n",
       "      <td>meat, egg and dairy products</td>\n",
       "      <td>listeria monocytogenes</td>\n",
       "      <td>smoked sausage</td>\n",
       "    </tr>\n",
       "    <tr>\n",
       "      <th>1</th>\n",
       "      <td>1</td>\n",
       "      <td>1994</td>\n",
       "      <td>3</td>\n",
       "      <td>10</td>\n",
       "      <td>us</td>\n",
       "      <td>Recall Notification: FSIS-033-94</td>\n",
       "      <td>Case Number: 033-94   \\n            Date Opene...</td>\n",
       "      <td>biological</td>\n",
       "      <td>meat, egg and dairy products</td>\n",
       "      <td>listeria spp</td>\n",
       "      <td>sausage</td>\n",
       "    </tr>\n",
       "    <tr>\n",
       "      <th>2</th>\n",
       "      <td>2</td>\n",
       "      <td>1994</td>\n",
       "      <td>3</td>\n",
       "      <td>28</td>\n",
       "      <td>us</td>\n",
       "      <td>Recall Notification: FSIS-014-94</td>\n",
       "      <td>Case Number: 014-94   \\n            Date Opene...</td>\n",
       "      <td>biological</td>\n",
       "      <td>meat, egg and dairy products</td>\n",
       "      <td>listeria monocytogenes</td>\n",
       "      <td>ham slices</td>\n",
       "    </tr>\n",
       "    <tr>\n",
       "      <th>3</th>\n",
       "      <td>3</td>\n",
       "      <td>1994</td>\n",
       "      <td>4</td>\n",
       "      <td>3</td>\n",
       "      <td>us</td>\n",
       "      <td>Recall Notification: FSIS-009-94</td>\n",
       "      <td>Case Number: 009-94   \\n            Date Opene...</td>\n",
       "      <td>foreign bodies</td>\n",
       "      <td>meat, egg and dairy products</td>\n",
       "      <td>plastic fragment</td>\n",
       "      <td>thermal processed pork meat</td>\n",
       "    </tr>\n",
       "    <tr>\n",
       "      <th>4</th>\n",
       "      <td>4</td>\n",
       "      <td>1994</td>\n",
       "      <td>7</td>\n",
       "      <td>1</td>\n",
       "      <td>us</td>\n",
       "      <td>Recall Notification: FSIS-001-94</td>\n",
       "      <td>Case Number: 001-94   \\n            Date Opene...</td>\n",
       "      <td>foreign bodies</td>\n",
       "      <td>meat, egg and dairy products</td>\n",
       "      <td>plastic fragment</td>\n",
       "      <td>chicken breast</td>\n",
       "    </tr>\n",
       "  </tbody>\n",
       "</table>\n",
       "</div>"
      ],
      "text/plain": [
       "   Unnamed: 0  year  month  day country                             title  \\\n",
       "0           0  1994      1    7      us  Recall Notification: FSIS-024-94   \n",
       "1           1  1994      3   10      us  Recall Notification: FSIS-033-94   \n",
       "2           2  1994      3   28      us  Recall Notification: FSIS-014-94   \n",
       "3           3  1994      4    3      us  Recall Notification: FSIS-009-94   \n",
       "4           4  1994      7    1      us  Recall Notification: FSIS-001-94   \n",
       "\n",
       "                                                text hazard-category  \\\n",
       "0  Case Number: 024-94   \\n            Date Opene...      biological   \n",
       "1  Case Number: 033-94   \\n            Date Opene...      biological   \n",
       "2  Case Number: 014-94   \\n            Date Opene...      biological   \n",
       "3  Case Number: 009-94   \\n            Date Opene...  foreign bodies   \n",
       "4  Case Number: 001-94   \\n            Date Opene...  foreign bodies   \n",
       "\n",
       "               product-category                  hazard  \\\n",
       "0  meat, egg and dairy products  listeria monocytogenes   \n",
       "1  meat, egg and dairy products            listeria spp   \n",
       "2  meat, egg and dairy products  listeria monocytogenes   \n",
       "3  meat, egg and dairy products        plastic fragment   \n",
       "4  meat, egg and dairy products        plastic fragment   \n",
       "\n",
       "                       product  \n",
       "0               smoked sausage  \n",
       "1                      sausage  \n",
       "2                   ham slices  \n",
       "3  thermal processed pork meat  \n",
       "4               chicken breast  "
      ]
     },
     "metadata": {},
     "output_type": "display_data"
    }
   ],
   "source": [
    "# Load the training, validation, and test datasets\n",
    "train_df = pd.read_csv('incidents_train.csv')\n",
    "val_df = pd.read_csv('incidents_valid.csv')\n",
    "test_df = pd.read_csv('incidents_test.csv')\n",
    "\n",
    "# Display basic information about the datasets\n",
    "print(\"Train Dataset Shape:\", train_df.shape)\n",
    "print(\"Validation Dataset Shape:\", val_df.shape)\n",
    "print(\"Test Dataset Shape:\", test_df.shape)\n",
    "print(\"Columns:\", train_df.columns.tolist())\n",
    "print(\"\\nSample Train Data:\")\n",
    "display(train_df.head())\n",
    "\n",
    "# Define a function to preprocess text: lowercase, remove punctuation, and extra spaces\n",
    "def preprocess_text(text):\n",
    "    text = re.sub(r'\\s+', ' ', text.strip())  # Remove extra spaces\n",
    "    text = re.sub(r'[^\\w\\s]', '', text)  # Remove punctuation\n",
    "    return text.lower()\n",
    "\n",
    "# Apply preprocessing to the 'title' column in each split\n",
    "train_df['processed_title'] = train_df['title'].apply(preprocess_text)\n",
    "val_df['processed_title'] = val_df['title'].apply(preprocess_text)\n",
    "test_df['processed_title'] = test_df['title'].apply(preprocess_text)\n",
    "\n",
    "# Create label encoders for each target variable by fitting on all data to ensure consistency\n",
    "le_prod_cat = LabelEncoder().fit(pd.concat([train_df['product-category'], val_df['product-category'], test_df['product-category']]))\n",
    "le_haz_cat = LabelEncoder().fit(pd.concat([train_df['hazard-category'], val_df['hazard-category'], test_df['hazard-category']]))\n",
    "le_prod = LabelEncoder().fit(pd.concat([train_df['product'], val_df['product'], test_df['product']]))\n",
    "le_haz = LabelEncoder().fit(pd.concat([train_df['hazard'], val_df['hazard'], test_df['hazard']]))\n",
    "\n",
    "# Encode the labels in each dataframe\n",
    "train_df['prod_cat_label'] = le_prod_cat.transform(train_df['product-category'])\n",
    "train_df['haz_cat_label'] = le_haz_cat.transform(train_df['hazard-category'])\n",
    "train_df['prod_label'] = le_prod.transform(train_df['product'])\n",
    "train_df['haz_label'] = le_haz.transform(train_df['hazard'])\n",
    "\n",
    "val_df['prod_cat_label'] = le_prod_cat.transform(val_df['product-category'])\n",
    "val_df['haz_cat_label'] = le_haz_cat.transform(val_df['hazard-category'])\n",
    "val_df['prod_label'] = le_prod.transform(val_df['product'])\n",
    "val_df['haz_label'] = le_haz.transform(val_df['hazard'])\n",
    "\n",
    "test_df['prod_cat_label'] = le_prod_cat.transform(test_df['product-category'])\n",
    "test_df['haz_cat_label'] = le_haz_cat.transform(test_df['hazard-category'])\n",
    "test_df['prod_label'] = le_prod.transform(test_df['product'])\n",
    "test_df['haz_label'] = le_haz.transform(test_df['hazard'])"
   ]
  },
  {
   "cell_type": "markdown",
   "id": "2955447d",
   "metadata": {},
   "source": [
    "# 3. Baseline Models (TF-IDF + LR/RF)\n",
    "Vectorization"
   ]
  },
  {
   "cell_type": "code",
   "execution_count": 6,
   "id": "1cd05b3b",
   "metadata": {},
   "outputs": [],
   "source": [
    "# Initialize TF-IDF vectorizer with max 5000 features and bigrams for better context capture\n",
    "vectorizer = TfidfVectorizer(max_features=5000, ngram_range=(1, 2))\n",
    "\n",
    "# Fit and transform on training data, transform validation and test data\n",
    "X_train = vectorizer.fit_transform(train_df['processed_title'])\n",
    "X_val = vectorizer.transform(val_df['processed_title'])\n",
    "X_test = vectorizer.transform(test_df['processed_title'])"
   ]
  },
  {
   "cell_type": "markdown",
   "id": "2e82f4ab",
   "metadata": {},
   "source": [
    "# Subtask 1: Product Category and Hazard Category"
   ]
  },
  {
   "cell_type": "code",
   "execution_count": 7,
   "id": "19cdc48c",
   "metadata": {},
   "outputs": [
    {
     "name": "stdout",
     "output_type": "stream",
     "text": [
      "LR Subtask 1 - Product Cat Macro F1: 0.5105\n",
      "LR Subtask 1 - Hazard Cat Macro F1: 0.5295\n",
      "RF Subtask 1 - Product Cat Macro F1: 0.5294\n",
      "RF Subtask 1 - Hazard Cat Macro F1: 0.5785\n",
      "RF Subtask 1 - Product Cat Macro F1: 0.5294\n",
      "RF Subtask 1 - Hazard Cat Macro F1: 0.5785\n"
     ]
    }
   ],
   "source": [
    "# Train Logistic Regression for Product Category in Subtask 1\n",
    "lr_prod_cat = LogisticRegression(max_iter=1000).fit(X_train, train_df['prod_cat_label'])\n",
    "\n",
    "# Train Logistic Regression for Hazard Category in Subtask 1\n",
    "lr_haz_cat = LogisticRegression(max_iter=1000).fit(X_train, train_df['haz_cat_label'])\n",
    "\n",
    "# Make predictions on validation set\n",
    "pred_prod_cat_val_lr = lr_prod_cat.predict(X_val)\n",
    "pred_haz_cat_val_lr = lr_haz_cat.predict(X_val)\n",
    "\n",
    "# Calculate Macro F1 scores\n",
    "f1_prod_cat_lr = f1_score(val_df['prod_cat_label'], pred_prod_cat_val_lr, average='macro')\n",
    "f1_haz_cat_lr = f1_score(val_df['haz_cat_label'], pred_haz_cat_val_lr, average='macro')\n",
    "\n",
    "# Print results\n",
    "print(f\"LR Subtask 1 - Product Cat Macro F1: {f1_prod_cat_lr:.4f}\")\n",
    "print(f\"LR Subtask 1 - Hazard Cat Macro F1: {f1_haz_cat_lr:.4f}\")\n",
    "\n",
    "# Train Random Forest for Product Category in Subtask 1\n",
    "rf_prod_cat = RandomForestClassifier(n_estimators=100, random_state=42).fit(X_train, train_df['prod_cat_label'])\n",
    "\n",
    "# Train Random Forest for Hazard Category in Subtask 1\n",
    "rf_haz_cat = RandomForestClassifier(n_estimators=100, random_state=42).fit(X_train, train_df['haz_cat_label'])\n",
    "\n",
    "# Make predictions on validation set\n",
    "pred_prod_cat_val_rf = rf_prod_cat.predict(X_val)\n",
    "pred_haz_cat_val_rf = rf_haz_cat.predict(X_val)\n",
    "\n",
    "# Calculate Macro F1 scores\n",
    "f1_prod_cat_rf = f1_score(val_df['prod_cat_label'], pred_prod_cat_val_rf, average='macro')\n",
    "f1_haz_cat_rf = f1_score(val_df['haz_cat_label'], pred_haz_cat_val_rf, average='macro')\n",
    "\n",
    "# Print results\n",
    "print(f\"RF Subtask 1 - Product Cat Macro F1: {f1_prod_cat_rf:.4f}\")\n",
    "print(f\"RF Subtask 1 - Hazard Cat Macro F1: {f1_haz_cat_rf:.4f}\")"
   ]
  },
  {
   "cell_type": "markdown",
   "id": "c86de079",
   "metadata": {},
   "source": [
    "# Subtask 2: Fine-Grained Product and Hazard"
   ]
  },
  {
   "cell_type": "code",
   "execution_count": 8,
   "id": "7ab71502",
   "metadata": {},
   "outputs": [
    {
     "name": "stdout",
     "output_type": "stream",
     "text": [
      "LR Subtask 2 - Product Macro F1: 0.1354\n",
      "LR Subtask 2 - Hazard Macro F1: 0.1982\n",
      "RF Subtask 2 - Product Macro F1: 0.2248\n",
      "RF Subtask 2 - Hazard Macro F1: 0.3832\n",
      "RF Subtask 2 - Product Macro F1: 0.2248\n",
      "RF Subtask 2 - Hazard Macro F1: 0.3832\n"
     ]
    }
   ],
   "source": [
    "# Train Logistic Regression for Fine-Grained Product in Subtask 2\n",
    "lr_prod = LogisticRegression(max_iter=1000).fit(X_train, train_df['prod_label'])\n",
    "\n",
    "# Train Logistic Regression for Fine-Grained Hazard in Subtask 2\n",
    "lr_haz = LogisticRegression(max_iter=1000).fit(X_train, train_df['haz_label'])\n",
    "\n",
    "# Make predictions on validation set\n",
    "pred_prod_val_lr = lr_prod.predict(X_val)\n",
    "pred_haz_val_lr = lr_haz.predict(X_val)\n",
    "\n",
    "# Calculate Macro F1 scores\n",
    "f1_prod_lr = f1_score(val_df['prod_label'], pred_prod_val_lr, average='macro')\n",
    "f1_haz_lr = f1_score(val_df['haz_label'], pred_haz_val_lr, average='macro')\n",
    "\n",
    "# Print results\n",
    "print(f\"LR Subtask 2 - Product Macro F1: {f1_prod_lr:.4f}\")\n",
    "print(f\"LR Subtask 2 - Hazard Macro F1: {f1_haz_lr:.4f}\")\n",
    "\n",
    "# Train Random Forest for Fine-Grained Product in Subtask 2\n",
    "rf_prod = RandomForestClassifier(n_estimators=100, random_state=42).fit(X_train, train_df['prod_label'])\n",
    "\n",
    "# Train Random Forest for Fine-Grained Hazard in Subtask 2\n",
    "rf_haz = RandomForestClassifier(n_estimators=100, random_state=42).fit(X_train, train_df['haz_label'])\n",
    "\n",
    "# Make predictions on validation set\n",
    "pred_prod_val_rf = rf_prod.predict(X_val)\n",
    "pred_haz_val_rf = rf_haz.predict(X_val)\n",
    "\n",
    "# Calculate Macro F1 scores\n",
    "f1_prod_rf = f1_score(val_df['prod_label'], pred_prod_val_rf, average='macro')\n",
    "f1_haz_rf = f1_score(val_df['haz_label'], pred_haz_val_rf, average='macro')\n",
    "\n",
    "# Print results\n",
    "print(f\"RF Subtask 2 - Product Macro F1: {f1_prod_rf:.4f}\")\n",
    "print(f\"RF Subtask 2 - Hazard Macro F1: {f1_haz_rf:.4f}\")"
   ]
  },
  {
   "cell_type": "markdown",
   "id": "66877001",
   "metadata": {},
   "source": [
    "# 4. Fine-Tuned Transformer (BERT)\n",
    "Dataset Class for BERT"
   ]
  },
  {
   "cell_type": "code",
   "execution_count": 9,
   "id": "d5f57dd8",
   "metadata": {},
   "outputs": [],
   "source": [
    "# Define a custom Dataset class for BERT to handle text tokenization and labels\n",
    "class FoodHazardDataset(Dataset):\n",
    "    def __init__(self, texts, labels, tokenizer, max_len=128):\n",
    "        self.texts = texts  # List of input texts\n",
    "        self.labels = labels  # List of corresponding labels\n",
    "        self.tokenizer = tokenizer  # BERT tokenizer\n",
    "        self.max_len = max_len  # Maximum sequence length\n",
    "\n",
    "    def __len__(self):\n",
    "        return len(self.texts)  # Return the number of samples\n",
    "\n",
    "    def __getitem__(self, idx):\n",
    "        text = self.texts[idx]  # Get text at index\n",
    "        label = self.labels[idx]  # Get label at index\n",
    "        # Tokenize the text with padding and truncation\n",
    "        encoding = self.tokenizer.encode_plus(\n",
    "            text,\n",
    "            add_special_tokens=True,\n",
    "            max_length=self.max_len,\n",
    "            return_token_type_ids=False,\n",
    "            padding='max_length',\n",
    "            truncation=True,\n",
    "            return_attention_mask=True,\n",
    "            return_tensors='pt'\n",
    "        )\n",
    "        # Return dictionary with input_ids, attention_mask, and label\n",
    "        return {\n",
    "            'input_ids': encoding['input_ids'].flatten(),\n",
    "            'attention_mask': encoding['attention_mask'].flatten(),\n",
    "            'labels': torch.tensor(label, dtype=torch.long)\n",
    "        }\n",
    "\n",
    "# Load the BERT tokenizer (uncased for case-insensitivity)\n",
    "tokenizer = BertTokenizer.from_pretrained('bert-base-uncased')"
   ]
  },
  {
   "cell_type": "markdown",
   "id": "d915d889",
   "metadata": {},
   "source": [
    "# Training Function for BERT"
   ]
  },
  {
   "cell_type": "code",
   "execution_count": 10,
   "id": "110e33f9",
   "metadata": {},
   "outputs": [],
   "source": [
    "# Define a function to train the BERT model\n",
    "def train_bert(model, dataloader, optimizer, epochs=3):\n",
    "    device = torch.device('cuda' if torch.cuda.is_available() else 'cpu')  # Use GPU if available\n",
    "    model.to(device)  # Move model to device\n",
    "    for epoch in range(epochs):\n",
    "        model.train()  # Set model to training mode\n",
    "        total_loss = 0  # Initialize loss tracker\n",
    "        for batch in tqdm(dataloader):  # Loop over batches with progress bar\n",
    "            optimizer.zero_grad()  # Reset gradients\n",
    "            input_ids = batch['input_ids'].to(device)  # Move inputs to device\n",
    "            attention_mask = batch['attention_mask'].to(device)  # Move masks to device\n",
    "            labels = batch['labels'].to(device)  # Move labels to device\n",
    "            outputs = model(input_ids, attention_mask=attention_mask, labels=labels)  # Forward pass\n",
    "            loss = outputs.loss  # Get loss\n",
    "            loss.backward()  # Backpropagation\n",
    "            optimizer.step()  # Update weights\n",
    "            total_loss += loss.item()  # Accumulate loss\n",
    "        # Print average loss for the epoch\n",
    "        print(f\"Epoch {epoch+1} - Average Loss: {total_loss / len(dataloader):.4f}\")\n",
    "\n",
    "# Define a function to evaluate the BERT model\n",
    "def evaluate_bert(model, dataloader):\n",
    "    device = torch.device('cuda' if torch.cuda.is_available() else 'cpu')  # Use GPU if available\n",
    "    model.to(device)  # Move model to device\n",
    "    model.eval()  # Set model to evaluation mode\n",
    "    predictions, true_labels = [], []  # Lists to store predictions and true labels\n",
    "    with torch.no_grad():  # Disable gradient computation\n",
    "        for batch in dataloader:  # Loop over batches\n",
    "            input_ids = batch['input_ids'].to(device)  # Move inputs to device\n",
    "            attention_mask = batch['attention_mask'].to(device)  # Move masks to device\n",
    "            outputs = model(input_ids, attention_mask=attention_mask)  # Forward pass\n",
    "            logits = outputs.logits  # Get logits\n",
    "            preds = torch.argmax(logits, dim=1).cpu().numpy()  # Get predicted classes\n",
    "            labels = batch['labels'].cpu().numpy()  # Get true labels\n",
    "            predictions.extend(preds)  # Append predictions\n",
    "            true_labels.extend(labels)  # Append true labels\n",
    "    # Calculate Macro F1 score\n",
    "    f1 = f1_score(true_labels, predictions, average='macro')\n",
    "    return f1, predictions  # Return F1 and predictions"
   ]
  },
  {
   "cell_type": "markdown",
   "id": "8672eb5e",
   "metadata": {},
   "source": [
    "# Subtask 1: Train BERT for Product Category"
   ]
  },
  {
   "cell_type": "code",
   "execution_count": 11,
   "id": "580813e2",
   "metadata": {},
   "outputs": [
    {
     "name": "stderr",
     "output_type": "stream",
     "text": [
      "Xet Storage is enabled for this repo, but the 'hf_xet' package is not installed. Falling back to regular HTTP download. For better performance, install the package with: `pip install huggingface_hub[hf_xet]` or `pip install hf_xet`\n",
      "Some weights of BertForSequenceClassification were not initialized from the model checkpoint at bert-base-uncased and are newly initialized: ['classifier.bias', 'classifier.weight']\n",
      "You should probably TRAIN this model on a down-stream task to be able to use it for predictions and inference.\n",
      "  0%|          | 0/159 [00:00<?, ?it/s]Some weights of BertForSequenceClassification were not initialized from the model checkpoint at bert-base-uncased and are newly initialized: ['classifier.bias', 'classifier.weight']\n",
      "You should probably TRAIN this model on a down-stream task to be able to use it for predictions and inference.\n",
      "100%|██████████| 159/159 [24:41<00:00,  9.32s/it]\n",
      "100%|██████████| 159/159 [24:41<00:00,  9.32s/it]\n"
     ]
    },
    {
     "name": "stdout",
     "output_type": "stream",
     "text": [
      "Epoch 1 - Average Loss: 2.0908\n"
     ]
    },
    {
     "name": "stderr",
     "output_type": "stream",
     "text": [
      "100%|██████████| 159/159 [24:35<00:00,  9.28s/it]\n",
      "100%|██████████| 159/159 [24:35<00:00,  9.28s/it]\n"
     ]
    },
    {
     "name": "stdout",
     "output_type": "stream",
     "text": [
      "Epoch 2 - Average Loss: 1.2337\n"
     ]
    },
    {
     "name": "stderr",
     "output_type": "stream",
     "text": [
      "100%|██████████| 159/159 [24:33<00:00,  9.27s/it]\n",
      "\n"
     ]
    },
    {
     "name": "stdout",
     "output_type": "stream",
     "text": [
      "Epoch 3 - Average Loss: 0.8671\n",
      "BERT Subtask 1 - Product Cat Macro F1: 0.5436\n",
      "BERT Subtask 1 - Product Cat Macro F1: 0.5436\n"
     ]
    }
   ],
   "source": [
    "# Create datasets for Product Category\n",
    "train_dataset_prod_cat = FoodHazardDataset(train_df['processed_title'].tolist(), train_df['prod_cat_label'].values, tokenizer)\n",
    "val_dataset_prod_cat = FoodHazardDataset(val_df['processed_title'].tolist(), val_df['prod_cat_label'].values, tokenizer)\n",
    "\n",
    "# Create DataLoaders for batching\n",
    "train_loader_prod_cat = DataLoader(train_dataset_prod_cat, batch_size=32, shuffle=True)\n",
    "val_loader_prod_cat = DataLoader(val_dataset_prod_cat, batch_size=32)\n",
    "\n",
    "# Load pre-trained BERT model for classification with appropriate number of labels\n",
    "model_prod_cat = BertForSequenceClassification.from_pretrained('bert-base-uncased', num_labels=len(le_prod_cat.classes_))\n",
    "\n",
    "# Set up optimizer (AdamW with learning rate 2e-5)\n",
    "optimizer_prod_cat = torch.optim.AdamW(model_prod_cat.parameters(), lr=2e-5)\n",
    "\n",
    "# Train the model\n",
    "train_bert(model_prod_cat, train_loader_prod_cat, optimizer_prod_cat)\n",
    "\n",
    "# Evaluate on validation set\n",
    "f1_prod_cat_bert, pred_prod_cat_val_bert = evaluate_bert(model_prod_cat, val_loader_prod_cat)\n",
    "print(f\"BERT Subtask 1 - Product Cat Macro F1: {f1_prod_cat_bert:.4f}\")"
   ]
  },
  {
   "cell_type": "markdown",
   "id": "90a9bcbd",
   "metadata": {},
   "source": [
    "# Subtask 1: Train BERT for Hazard Category"
   ]
  },
  {
   "cell_type": "code",
   "execution_count": 12,
   "id": "ff4449c8",
   "metadata": {},
   "outputs": [
    {
     "name": "stderr",
     "output_type": "stream",
     "text": [
      "Some weights of BertForSequenceClassification were not initialized from the model checkpoint at bert-base-uncased and are newly initialized: ['classifier.bias', 'classifier.weight']\n",
      "You should probably TRAIN this model on a down-stream task to be able to use it for predictions and inference.\n",
      "100%|██████████| 159/159 [24:54<00:00,  9.40s/it]\n",
      "100%|██████████| 159/159 [24:54<00:00,  9.40s/it]\n"
     ]
    },
    {
     "name": "stdout",
     "output_type": "stream",
     "text": [
      "Epoch 1 - Average Loss: 1.0774\n"
     ]
    },
    {
     "name": "stderr",
     "output_type": "stream",
     "text": [
      "100%|██████████| 159/159 [24:52<00:00,  9.39s/it]\n",
      "100%|██████████| 159/159 [24:52<00:00,  9.39s/it]\n"
     ]
    },
    {
     "name": "stdout",
     "output_type": "stream",
     "text": [
      "Epoch 2 - Average Loss: 0.5686\n"
     ]
    },
    {
     "name": "stderr",
     "output_type": "stream",
     "text": [
      "100%|██████████| 159/159 [24:45<00:00,  9.34s/it]\n",
      "\n"
     ]
    },
    {
     "name": "stdout",
     "output_type": "stream",
     "text": [
      "Epoch 3 - Average Loss: 0.4154\n",
      "BERT Subtask 1 - Hazard Cat Macro F1: 0.5208\n",
      "BERT Subtask 1 - Hazard Cat Macro F1: 0.5208\n"
     ]
    }
   ],
   "source": [
    "# Create datasets for Hazard Category\n",
    "train_dataset_haz_cat = FoodHazardDataset(train_df['processed_title'].tolist(), train_df['haz_cat_label'].values, tokenizer)\n",
    "val_dataset_haz_cat = FoodHazardDataset(val_df['processed_title'].tolist(), val_df['haz_cat_label'].values, tokenizer)\n",
    "\n",
    "# Create DataLoaders for batching\n",
    "train_loader_haz_cat = DataLoader(train_dataset_haz_cat, batch_size=32, shuffle=True)\n",
    "val_loader_haz_cat = DataLoader(val_dataset_haz_cat, batch_size=32)\n",
    "\n",
    "# Load pre-trained BERT model for classification with appropriate number of labels\n",
    "model_haz_cat = BertForSequenceClassification.from_pretrained('bert-base-uncased', num_labels=len(le_haz_cat.classes_))\n",
    "\n",
    "# Set up optimizer (AdamW with learning rate 2e-5)\n",
    "optimizer_haz_cat = torch.optim.AdamW(model_haz_cat.parameters(), lr=2e-5)\n",
    "\n",
    "# Train the model\n",
    "train_bert(model_haz_cat, train_loader_haz_cat, optimizer_haz_cat)\n",
    "\n",
    "# Evaluate on validation set\n",
    "f1_haz_cat_bert, pred_haz_cat_val_bert = evaluate_bert(model_haz_cat, val_loader_haz_cat)\n",
    "print(f\"BERT Subtask 1 - Hazard Cat Macro F1: {f1_haz_cat_bert:.4f}\")"
   ]
  },
  {
   "cell_type": "markdown",
   "id": "f6f81ef6",
   "metadata": {},
   "source": [
    "# Subtask 2: Train BERT for Fine-Grained Product"
   ]
  },
  {
   "cell_type": "code",
   "execution_count": 13,
   "id": "aeb3ae2f",
   "metadata": {},
   "outputs": [
    {
     "name": "stderr",
     "output_type": "stream",
     "text": [
      "Some weights of BertForSequenceClassification were not initialized from the model checkpoint at bert-base-uncased and are newly initialized: ['classifier.bias', 'classifier.weight']\n",
      "You should probably TRAIN this model on a down-stream task to be able to use it for predictions and inference.\n",
      "100%|██████████| 159/159 [24:48<00:00,  9.36s/it]\n",
      "100%|██████████| 159/159 [24:48<00:00,  9.36s/it]\n"
     ]
    },
    {
     "name": "stdout",
     "output_type": "stream",
     "text": [
      "Epoch 1 - Average Loss: 6.6632\n"
     ]
    },
    {
     "name": "stderr",
     "output_type": "stream",
     "text": [
      "100%|██████████| 159/159 [24:52<00:00,  9.39s/it]\n",
      "100%|██████████| 159/159 [24:52<00:00,  9.39s/it]\n"
     ]
    },
    {
     "name": "stdout",
     "output_type": "stream",
     "text": [
      "Epoch 2 - Average Loss: 6.0653\n"
     ]
    },
    {
     "name": "stderr",
     "output_type": "stream",
     "text": [
      "100%|██████████| 159/159 [25:17<00:00,  9.55s/it]\n",
      "\n"
     ]
    },
    {
     "name": "stdout",
     "output_type": "stream",
     "text": [
      "Epoch 3 - Average Loss: 5.6557\n",
      "BERT Subtask 2 - Product Macro F1: 0.0162\n",
      "BERT Subtask 2 - Product Macro F1: 0.0162\n"
     ]
    }
   ],
   "source": [
    "# Create datasets for Fine-Grained Product\n",
    "train_dataset_prod = FoodHazardDataset(train_df['processed_title'].tolist(), train_df['prod_label'].values, tokenizer)\n",
    "val_dataset_prod = FoodHazardDataset(val_df['processed_title'].tolist(), val_df['prod_label'].values, tokenizer)\n",
    "\n",
    "# Create DataLoaders for batching\n",
    "train_loader_prod = DataLoader(train_dataset_prod, batch_size=32, shuffle=True)\n",
    "val_loader_prod = DataLoader(val_dataset_prod, batch_size=32)\n",
    "\n",
    "# Load pre-trained BERT model for classification with appropriate number of labels\n",
    "model_prod = BertForSequenceClassification.from_pretrained('bert-base-uncased', num_labels=len(le_prod.classes_))\n",
    "\n",
    "# Set up optimizer (AdamW with learning rate 2e-5)\n",
    "optimizer_prod = torch.optim.AdamW(model_prod.parameters(), lr=2e-5)\n",
    "\n",
    "# Train the model\n",
    "train_bert(model_prod, train_loader_prod, optimizer_prod)\n",
    "\n",
    "# Evaluate on validation set\n",
    "f1_prod_bert, pred_prod_val_bert = evaluate_bert(model_prod, val_loader_prod)\n",
    "print(f\"BERT Subtask 2 - Product Macro F1: {f1_prod_bert:.4f}\")"
   ]
  },
  {
   "cell_type": "markdown",
   "id": "99db5395",
   "metadata": {},
   "source": [
    "# Subtask 2: Train BERT for Fine-Grained Hazard"
   ]
  },
  {
   "cell_type": "code",
   "execution_count": 14,
   "id": "6eb98c15",
   "metadata": {},
   "outputs": [
    {
     "name": "stderr",
     "output_type": "stream",
     "text": [
      "Some weights of BertForSequenceClassification were not initialized from the model checkpoint at bert-base-uncased and are newly initialized: ['classifier.bias', 'classifier.weight']\n",
      "You should probably TRAIN this model on a down-stream task to be able to use it for predictions and inference.\n",
      "100%|██████████| 318/318 [26:09<00:00,  4.94s/it]\n",
      "100%|██████████| 318/318 [26:09<00:00,  4.94s/it]\n"
     ]
    },
    {
     "name": "stdout",
     "output_type": "stream",
     "text": [
      "Epoch 1 - Average Loss: 3.3566\n"
     ]
    },
    {
     "name": "stderr",
     "output_type": "stream",
     "text": [
      "100%|██████████| 318/318 [25:47<00:00,  4.87s/it]\n",
      "100%|██████████| 318/318 [25:47<00:00,  4.87s/it]\n"
     ]
    },
    {
     "name": "stdout",
     "output_type": "stream",
     "text": [
      "Epoch 2 - Average Loss: 2.3160\n"
     ]
    },
    {
     "name": "stderr",
     "output_type": "stream",
     "text": [
      "100%|██████████| 318/318 [25:40<00:00,  4.84s/it]\n",
      "\n"
     ]
    },
    {
     "name": "stdout",
     "output_type": "stream",
     "text": [
      "Epoch 3 - Average Loss: 1.8910\n",
      "BERT Subtask 2 - Hazard Macro F1: 0.1546\n",
      "BERT Subtask 2 - Hazard Macro F1: 0.1546\n"
     ]
    }
   ],
   "source": [
    "# Create datasets for Fine-Grained Hazard\n",
    "train_dataset_haz = FoodHazardDataset(train_df['processed_title'].tolist(), train_df['haz_label'].values, tokenizer)\n",
    "val_dataset_haz = FoodHazardDataset(val_df['processed_title'].tolist(), val_df['haz_label'].values, tokenizer)\n",
    "\n",
    "# Create DataLoaders for batching\n",
    "train_loader_haz = DataLoader(train_dataset_haz, batch_size=16, shuffle=True)  # Smaller batch for larger classes to save memory\n",
    "val_loader_haz = DataLoader(val_dataset_haz, batch_size=16)\n",
    "\n",
    "# Load pre-trained BERT model for classification with appropriate number of labels\n",
    "model_haz = BertForSequenceClassification.from_pretrained('bert-base-uncased', num_labels=len(le_haz.classes_))\n",
    "\n",
    "# Set up optimizer (AdamW with learning rate 2e-5)\n",
    "optimizer_haz = torch.optim.AdamW(model_haz.parameters(), lr=2e-5)\n",
    "\n",
    "# Train the model\n",
    "train_bert(model_haz, train_loader_haz, optimizer_haz)\n",
    "\n",
    "# Evaluate on validation set\n",
    "f1_haz_bert, pred_haz_val_bert = evaluate_bert(model_haz, val_loader_haz)\n",
    "print(f\"BERT Subtask 2 - Hazard Macro F1: {f1_haz_bert:.4f}\")"
   ]
  },
  {
   "cell_type": "markdown",
   "id": "d2d1f967",
   "metadata": {},
   "source": [
    "# 5. Explainability\n",
    "SHAP for Logistic Regression Baseline (Subtask 1 Product Cat Example)"
   ]
  },
  {
   "cell_type": "code",
   "execution_count": 16,
   "id": "e66c5f94",
   "metadata": {},
   "outputs": [
    {
     "data": {
      "image/png": "[encoded data removed]",
      "text/plain": [
       "<Figure size 800x950 with 2 Axes>"
      ]
     },
     "metadata": {},
     "output_type": "display_data"
    }
   ],
   "source": [
    "# Initialize SHAP explainer for Logistic Regression (using a linear masker for feature importance)\n",
    "explainer_lr_prod_cat = shap.Explainer(lr_prod_cat, X_train.toarray(), feature_names=vectorizer.get_feature_names_out())\n",
    "\n",
    "# Compute SHAP values for first 10 validation samples\n",
    "shap_values_lr = explainer_lr_prod_cat(X_val[:10].toarray())\n",
    "\n",
    "# For multiclass, select the class index you want to explain (e.g., predicted class for first sample)\n",
    "class_idx = shap_values_lr[0].values.argmax(axis=1)[0] if shap_values_lr[0].values.ndim == 2 else 0\n",
    "\n",
    "# Plot summary of SHAP values for the first sample and the selected class\n",
    "shap.summary_plot(shap_values_lr.values[:, :, class_idx], X_val[:10].toarray(), feature_names=vectorizer.get_feature_names_out())"
   ]
  },
  {
   "cell_type": "markdown",
   "id": "e4c0f9ca",
   "metadata": {},
   "source": [
    "LIME for BERT (Subtask 1 Product Cat Example)"
   ]
  },
  {
   "cell_type": "markdown",
   "id": "95a757de",
   "metadata": {},
   "source": [
    "# 6. Error Analysis\n",
    "Confusion Matrix Plot (BERT Subtask 1 Product Cat Example)"
   ]
  },
  {
   "cell_type": "code",
   "execution_count": 28,
   "id": "e2b4c8ff",
   "metadata": {},
   "outputs": [
    {
     "data": {
      "image/png": "[encoded data removed]",
      "text/plain": [
       "<Figure size 800x800 with 2 Axes>"
      ]
     },
     "metadata": {},
     "output_type": "display_data"
    },
    {
     "name": "stdout",
     "output_type": "stream",
     "text": [
      "                                                   precision    recall  f1-score   support\n",
      "\n",
      "                              alcoholic beverages       0.86      0.86      0.86         7\n",
      "                      cereals and bakery products       0.75      0.67      0.70        75\n",
      "     cocoa and cocoa preparations, coffee and tea       0.53      0.67      0.59        15\n",
      "                                    confectionery       1.00      0.19      0.32        26\n",
      "dietetic foods, food supplements, fortified foods       0.53      0.64      0.58        14\n",
      "                                    fats and oils       1.00      0.50      0.67         4\n",
      "                                   feed materials       0.00      0.00      0.00         1\n",
      "                   food additives and flavourings       0.00      0.00      0.00         0\n",
      "                           food contact materials       0.00      0.00      0.00         0\n",
      "                            fruits and vegetables       0.49      0.81      0.61        52\n",
      "                                 herbs and spices       0.50      0.37      0.42        19\n",
      "                            honey and royal jelly       0.00      0.00      0.00         0\n",
      "                                ices and desserts       0.95      0.75      0.84        24\n",
      "                     meat, egg and dairy products       0.81      0.93      0.87       146\n",
      "                          non-alcoholic beverages       0.76      0.84      0.80        19\n",
      "                     nuts, nut products and seeds       0.71      0.45      0.56        33\n",
      "                       other food product / mixed       0.00      0.00      0.00        10\n",
      "                                         pet feed       0.00      0.00      0.00         1\n",
      "                       prepared dishes and snacks       0.44      0.41      0.43        56\n",
      "                                          seafood       0.92      0.85      0.88        27\n",
      "             soups, broths, sauces and condiments       0.60      0.72      0.66        36\n",
      "                                sugars and syrups       0.00      0.00      0.00         0\n",
      "\n",
      "                                         accuracy                           0.69       565\n",
      "                                        macro avg       0.49      0.44      0.44       565\n",
      "                                     weighted avg       0.70      0.69      0.67       565\n",
      "\n",
      "\n",
      "Sample Misclassified Instances:\n",
      "Text: Archive - ALLERGY ALERT -- PRESENCE OF UNDECLARED PEANUT IN PLANTERS ROASTED SUNFLOWER SEEDS, SALTED\n",
      "True: ices and desserts\n",
      "Pred: nuts, nut products and seeds\n",
      "\n",
      "Text: Dairy Farmers—Shred Heads Natural Cheese Sticks\n",
      "True: prepared dishes and snacks\n",
      "Pred: meat, egg and dairy products\n",
      "\n",
      "Text: PA Firm Recalls Ravioli for Undeclared Allergen and Incorret Labels\n",
      "True: prepared dishes and snacks\n",
      "Pred: cereals and bakery products\n",
      "\n",
      "Text: Uncle Tobys—Oat Temptations Selections Pack\n",
      "True: cereals and bakery products\n",
      "Pred: fruits and vegetables\n",
      "\n",
      "Text: Kenman—Black & Gold Party Mix Lollies, & Bols (Kmart) Party Lollies.\n",
      "True: confectionery\n",
      "Pred: cereals and bakery products\n",
      "\n"
     ]
    }
   ],
   "source": [
    "# Compute confusion matrix for BERT predictions on validation set\n",
    "cm = confusion_matrix(val_df['prod_cat_label'], pred_prod_cat_val_bert)\n",
    "\n",
    "# Plot the confusion matrix using seaborn heatmap (limited to first 10 classes for visibility if many classes)\n",
    "plt.figure(figsize=(8, 8))\n",
    "sns.heatmap(cm, annot=False, fmt='d', cmap='Blues', xticklabels=le_prod_cat.classes_[:10], yticklabels=le_prod_cat.classes_[:10])\n",
    "plt.title('Confusion Matrix for BERT Product Category')\n",
    "plt.xlabel('Predicted')\n",
    "plt.ylabel('True')\n",
    "plt.show()\n",
    "\n",
    "# Print detailed classification report\n",
    "print(classification_report(\n",
    "    val_df['prod_cat_label'],\n",
    "    pred_prod_cat_val_bert,\n",
    "    labels=np.arange(len(le_prod_cat.classes_)),\n",
    "    target_names=le_prod_cat.classes_\n",
    "))\n",
    "\n",
    "# Find indices of misclassified samples and print first 5\n",
    "mis_idx = np.where(pred_prod_cat_val_bert != val_df['prod_cat_label'])[0][:5]\n",
    "print(\"\\nSample Misclassified Instances:\")\n",
    "for idx in mis_idx:\n",
    "    print(f\"Text: {val_df['title'].iloc[idx]}\")\n",
    "    print(f\"True: {le_prod_cat.inverse_transform([val_df['prod_cat_label'].iloc[idx]])[0]}\")\n",
    "    print(f\"Pred: {le_prod_cat.inverse_transform([pred_prod_cat_val_bert[idx]])[0]}\\n\")"
   ]
  },
  {
   "cell_type": "markdown",
   "id": "ea8eaf74",
   "metadata": {},
   "source": [
    "# Final Test Set Evaluation (BERT Subtask 1 Product Cat Example)"
   ]
  },
  {
   "cell_type": "code",
   "execution_count": 26,
   "id": "34bc351c",
   "metadata": {},
   "outputs": [
    {
     "name": "stdout",
     "output_type": "stream",
     "text": [
      "Test Set - BERT Subtask 1 Product Cat Macro F1: 0.5283\n"
     ]
    }
   ],
   "source": [
    "# Create test dataset and loader for Product Category\n",
    "test_dataset_prod_cat = FoodHazardDataset(test_df['processed_title'].tolist(), test_df['prod_cat_label'].values, tokenizer)\n",
    "test_loader_prod_cat = DataLoader(test_dataset_prod_cat, batch_size=32)\n",
    "\n",
    "# Evaluate on test set\n",
    "f1_test_prod_cat, _ = evaluate_bert(model_prod_cat, test_loader_prod_cat)\n",
    "print(f\"Test Set - BERT Subtask 1 Product Cat Macro F1: {f1_test_prod_cat:.4f}\")"
   ]
  },
  {
   "cell_type": "markdown",
   "id": "3a4242b2",
   "metadata": {},
   "source": [
    "# Repeat similar evaluation for other models and subtasks as needed by duplicating the structure"
   ]
  },
  {
   "cell_type": "code",
   "execution_count": 27,
   "id": "5ab3bec8",
   "metadata": {},
   "outputs": [
    {
     "name": "stdout",
     "output_type": "stream",
     "text": [
      "Test Set - LR Subtask 1 - Product Cat Macro F1: 0.4463\n",
      "Test Set - LR Subtask 1 - Hazard Cat Macro F1: 0.5417\n",
      "Test Set - RF Subtask 1 - Product Cat Macro F1: 0.4249\n",
      "Test Set - RF Subtask 1 - Hazard Cat Macro F1: 0.5827\n",
      "Test Set - LR Subtask 2 - Product Macro F1: 0.0787\n",
      "Test Set - LR Subtask 2 - Hazard Macro F1: 0.1764\n",
      "Test Set - RF Subtask 2 - Product Macro F1: 0.2293\n",
      "Test Set - RF Subtask 2 - Hazard Macro F1: 0.3359\n",
      "Test Set - RF Subtask 2 - Product Macro F1: 0.2293\n",
      "Test Set - RF Subtask 2 - Hazard Macro F1: 0.3359\n",
      "Test Set - BERT Subtask 1 - Product Cat Macro F1: 0.5283\n",
      "Test Set - BERT Subtask 1 - Product Cat Macro F1: 0.5283\n",
      "Test Set - BERT Subtask 1 - Hazard Cat Macro F1: 0.5135\n",
      "Test Set - BERT Subtask 1 - Hazard Cat Macro F1: 0.5135\n",
      "Test Set - BERT Subtask 2 - Product Macro F1: 0.0096\n",
      "Test Set - BERT Subtask 2 - Product Macro F1: 0.0096\n",
      "Test Set - BERT Subtask 2 - Hazard Macro F1: 0.1491\n",
      "Test Set - BERT Subtask 2 - Hazard Macro F1: 0.1491\n"
     ]
    }
   ],
   "source": [
    "# --- Baseline Models Evaluation on Test Set ---\n",
    "\n",
    "# Make predictions with LR for Subtask 1 on test set\n",
    "pred_prod_cat_test_lr = lr_prod_cat.predict(X_test)\n",
    "pred_haz_cat_test_lr = lr_haz_cat.predict(X_test)\n",
    "\n",
    "# Calculate Macro F1 scores for LR Subtask 1\n",
    "f1_prod_cat_test_lr = f1_score(test_df['prod_cat_label'], pred_prod_cat_test_lr, average='macro')\n",
    "f1_haz_cat_test_lr = f1_score(test_df['haz_cat_label'], pred_haz_cat_test_lr, average='macro')\n",
    "\n",
    "# Print results\n",
    "print(f\"Test Set - LR Subtask 1 - Product Cat Macro F1: {f1_prod_cat_test_lr:.4f}\")\n",
    "print(f\"Test Set - LR Subtask 1 - Hazard Cat Macro F1: {f1_haz_cat_test_lr:.4f}\")\n",
    "\n",
    "# Make predictions with RF for Subtask 1 on test set\n",
    "pred_prod_cat_test_rf = rf_prod_cat.predict(X_test)\n",
    "pred_haz_cat_test_rf = rf_haz_cat.predict(X_test)\n",
    "\n",
    "# Calculate Macro F1 scores for RF Subtask 1\n",
    "f1_prod_cat_test_rf = f1_score(test_df['prod_cat_label'], pred_prod_cat_test_rf, average='macro')\n",
    "f1_haz_cat_test_rf = f1_score(test_df['haz_cat_label'], pred_haz_cat_test_rf, average='macro')\n",
    "\n",
    "# Print results\n",
    "print(f\"Test Set - RF Subtask 1 - Product Cat Macro F1: {f1_prod_cat_test_rf:.4f}\")\n",
    "print(f\"Test Set - RF Subtask 1 - Hazard Cat Macro F1: {f1_haz_cat_test_rf:.4f}\")\n",
    "\n",
    "# Make predictions with LR for Subtask 2 on test set\n",
    "pred_prod_test_lr = lr_prod.predict(X_test)\n",
    "pred_haz_test_lr = lr_haz.predict(X_test)\n",
    "\n",
    "# Calculate Macro F1 scores for LR Subtask 2\n",
    "f1_prod_test_lr = f1_score(test_df['prod_label'], pred_prod_test_lr, average='macro')\n",
    "f1_haz_test_lr = f1_score(test_df['haz_label'], pred_haz_test_lr, average='macro')\n",
    "\n",
    "# Print results\n",
    "print(f\"Test Set - LR Subtask 2 - Product Macro F1: {f1_prod_test_lr:.4f}\")\n",
    "print(f\"Test Set - LR Subtask 2 - Hazard Macro F1: {f1_haz_test_lr:.4f}\")\n",
    "\n",
    "# Make predictions with RF for Subtask 2 on test set\n",
    "pred_prod_test_rf = rf_prod.predict(X_test)\n",
    "pred_haz_test_rf = rf_haz.predict(X_test)\n",
    "\n",
    "# Calculate Macro F1 scores for RF Subtask 2\n",
    "f1_prod_test_rf = f1_score(test_df['prod_label'], pred_prod_test_rf, average='macro')\n",
    "f1_haz_test_rf = f1_score(test_df['haz_label'], pred_haz_test_rf, average='macro')\n",
    "\n",
    "# Print results\n",
    "print(f\"Test Set - RF Subtask 2 - Product Macro F1: {f1_prod_test_rf:.4f}\")\n",
    "print(f\"Test Set - RF Subtask 2 - Hazard Macro F1: {f1_haz_test_rf:.4f}\")\n",
    "\n",
    "# --- BERT Models Evaluation on Test Set ---\n",
    "\n",
    "# Create test dataset and loader for Subtask 1 Product Category\n",
    "test_dataset_prod_cat = FoodHazardDataset(test_df['processed_title'].tolist(), test_df['prod_cat_label'].values, tokenizer)\n",
    "test_loader_prod_cat = DataLoader(test_dataset_prod_cat, batch_size=32)\n",
    "\n",
    "# Evaluate on test set\n",
    "f1_test_prod_cat_bert, _ = evaluate_bert(model_prod_cat, test_loader_prod_cat)\n",
    "print(f\"Test Set - BERT Subtask 1 - Product Cat Macro F1: {f1_test_prod_cat_bert:.4f}\")\n",
    "\n",
    "# Create test dataset and loader for Subtask 1 Hazard Category\n",
    "test_dataset_haz_cat = FoodHazardDataset(test_df['processed_title'].tolist(), test_df['haz_cat_label'].values, tokenizer)\n",
    "test_loader_haz_cat = DataLoader(test_dataset_haz_cat, batch_size=32)\n",
    "\n",
    "# Evaluate on test set\n",
    "f1_test_haz_cat_bert, _ = evaluate_bert(model_haz_cat, test_loader_haz_cat)\n",
    "print(f\"Test Set - BERT Subtask 1 - Hazard Cat Macro F1: {f1_test_haz_cat_bert:.4f}\")\n",
    "\n",
    "# Create test dataset and loader for Subtask 2 Fine-Grained Product\n",
    "test_dataset_prod = FoodHazardDataset(test_df['processed_title'].tolist(), test_df['prod_label'].values, tokenizer)\n",
    "test_loader_prod = DataLoader(test_dataset_prod, batch_size=32)\n",
    "\n",
    "# Evaluate on test set\n",
    "f1_test_prod_bert, _ = evaluate_bert(model_prod, test_loader_prod)\n",
    "print(f\"Test Set - BERT Subtask 2 - Product Macro F1: {f1_test_prod_bert:.4f}\")\n",
    "\n",
    "# Create test dataset and loader for Subtask 2 Fine-Grained Hazard\n",
    "test_dataset_haz = FoodHazardDataset(test_df['processed_title'].tolist(), test_df['haz_label'].values, tokenizer)\n",
    "test_loader_haz = DataLoader(test_dataset_haz, batch_size=16)  # Smaller batch if needed for memory\n",
    "\n",
    "# Evaluate on test set\n",
    "f1_test_haz_bert, _ = evaluate_bert(model_haz, test_loader_haz)\n",
    "print(f\"Test Set - BERT Subtask 2 - Hazard Macro F1: {f1_test_haz_bert:.4f}\")"
   ]
  }
 ],
 "metadata": {
  "kernelspec": {
   "display_name": "py97",
   "language": "python",
   "name": "python3"
  },
  "language_info": {
   "codemirror_mode": {
    "name": "ipython",
    "version": 3
   },
   "file_extension": ".py",
   "mimetype": "text/x-python",
   "name": "python",
   "nbconvert_exporter": "python",
   "pygments_lexer": "ipython3",
   "version": "3.13.5"
  }
 },
 "nbformat": 4,
 "nbformat_minor": 5
}
